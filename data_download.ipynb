{
  "nbformat": 4,
  "nbformat_minor": 0,
  "metadata": {
    "colab": {
      "name": "data_download.ipynb",
      "provenance": [],
      "authorship_tag": "ABX9TyMfYeljME1NhvUPNm2Im834",
      "include_colab_link": true
    },
    "kernelspec": {
      "name": "python3",
      "display_name": "Python 3"
    },
    "language_info": {
      "name": "python"
    }
  },
  "cells": [
    {
      "cell_type": "markdown",
      "metadata": {
        "id": "view-in-github",
        "colab_type": "text"
      },
      "source": [
        "<a href=\"https://colab.research.google.com/github/Enzod90/Plane_classification/blob/main/data_download.ipynb\" target=\"_parent\"><img src=\"https://colab.research.google.com/assets/colab-badge.svg\" alt=\"Open In Colab\"/></a>"
      ]
    },
    {
      "cell_type": "markdown",
      "source": [
        "# Download images and annotations"
      ],
      "metadata": {
        "id": "chhE30Dd__82"
      }
    },
    {
      "cell_type": "code",
      "execution_count": 6,
      "metadata": {
        "colab": {
          "base_uri": "https://localhost:8080/"
        },
        "id": "NdVW4nce6Skv",
        "outputId": "08fe03e0-edbf-4131-eb3b-86ff82c99761"
      },
      "outputs": [
        {
          "output_type": "stream",
          "name": "stdout",
          "text": [
            "  % Total    % Received % Xferd  Average Speed   Time    Time     Time  Current\n",
            "                                 Dload  Upload   Total   Spent    Left  Speed\n",
            "100 2625M  100 2625M    0     0  9871k      0  0:04:32  0:04:32 --:--:-- 30.3M\n"
          ]
        }
      ],
      "source": [
        "# Download data and save to file\n",
        "!curl -O https://www.robots.ox.ac.uk/~vgg/data/fgvc-aircraft/archives/fgvc-aircraft-2013b.tar.gz"
      ]
    },
    {
      "cell_type": "markdown",
      "source": [
        "Untar files "
      ],
      "metadata": {
        "id": "zok2PYE_AF4g"
      }
    },
    {
      "cell_type": "code",
      "source": [
        "# Fichiers tar\n",
        "# commandes :\n",
        "# x : extraire \n",
        "# t : lister les fichiers sans décompresser \n",
        "# v : pour avoir du détail (verbose)\n",
        "# c : créer un tarfile\n",
        "# f : pour indiquer nom du fichier\n",
        "# z : le fichier est compressé\n",
        "# exemple pour lister les fichiers avant de décompresser : \"tzvf\" et mettre nom fichier \n",
        "!tar zxf fgvc-aircraft-2013b.tar.gz"
      ],
      "metadata": {
        "id": "YJ8dPcqh9AyP"
      },
      "execution_count": 7,
      "outputs": []
    }
  ]
}