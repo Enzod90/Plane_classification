{
  "nbformat": 4,
  "nbformat_minor": 0,
  "metadata": {
    "colab": {
      "name": "requirements.txt",
      "provenance": [],
      "authorship_tag": "ABX9TyMVRhrQJmm1mJVqVP2Tne6I",
      "include_colab_link": true
    },
    "kernelspec": {
      "name": "python3",
      "display_name": "Python 3"
    },
    "language_info": {
      "name": "python"
    }
  },
  "cells": [
    {
      "cell_type": "markdown",
      "metadata": {
        "id": "view-in-github",
        "colab_type": "text"
      },
      "source": [
        "<a href=\"https://colab.research.google.com/github/Enzod90/Plane_classification/blob/main/requirements_txt.ipynb\" target=\"_parent\"><img src=\"https://colab.research.google.com/assets/colab-badge.svg\" alt=\"Open In Colab\"/></a>"
      ]
    },
    {
      "cell_type": "code",
      "source": [
        "#Sous Colab nous avons utilisé:\n",
        "import keras\n",
        "import pathlib\n",
        "import matplotlib.pyplot as plt\n",
        "import numpy as np\n",
        "import pandas as pd\n",
        "import tensorflow as tf\n",
        "from keras.models import Sequential, load_model\n",
        "from keras.layers import Conv2D, MaxPool2D, Dense, Flatten, Dropout\n",
        "#from tensorflow.keras.utils import to_categorical\n",
        "from sklearn.model_selection import train_test_split\n",
        "from PIL import Image\n",
        "import datetime\n",
        "import seaborn as sns \n",
        "\n",
        "#Sous Jupyter nous avons utilisé:\n",
        "import matplotlib.pyplot as plt\n",
        "import numpy as np\n",
        "import streamlit as st\n",
        "import tensorflow as tf"
      ],
      "metadata": {
        "id": "Na5bA1X7FLCC"
      },
      "execution_count": null,
      "outputs": []
    }
  ]
}